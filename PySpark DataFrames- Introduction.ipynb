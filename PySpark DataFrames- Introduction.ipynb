{
 "cells": [
  {
   "cell_type": "markdown",
   "source": [
    "#### We Cover\n",
    "- PySpark Dataframe \n",
    "- Reading The Dataset\n",
    "- Checking the Datatypes of the Column (Schema)\n",
    "- Selecting Columns and Indexing\n",
    "- Check Describe option similar to Pandas\n",
    "- Adding Columns\n",
    "- Dropping columns\n",
    "- Renaming Columns"
   ],
   "attachments": {},
   "metadata": {
    "datalore": {
     "node_id": "XuSNVMUoqfNOY0Ir1zxYFH",
     "type": "MD",
     "hide_input_from_viewers": false,
     "hide_output_from_viewers": false,
     "report_properties": {
      "rowId": "doPnE9hLmObUBJbDUhlcLj"
     }
    }
   }
  },
  {
   "cell_type": "code",
   "source": [
    "from pyspark.sql import SparkSession"
   ],
   "execution_count": 1,
   "outputs": [],
   "metadata": {
    "datalore": {
     "node_id": "Qngl42z6QOS9Xvj80KY46r",
     "type": "CODE",
     "hide_input_from_viewers": false,
     "hide_output_from_viewers": false,
     "report_properties": {
      "rowId": "yDUYUFiOaPfpVwECSr13bJ"
     }
    }
   }
  },
  {
   "cell_type": "code",
   "source": [
    "import pandas as pd"
   ],
   "execution_count": 2,
   "outputs": [],
   "metadata": {
    "datalore": {
     "node_id": "SdCuGgWVC5Ip9RMljmTqGl",
     "type": "CODE",
     "hide_input_from_viewers": true,
     "hide_output_from_viewers": true
    }
   }
  },
  {
   "cell_type": "code",
   "source": [
    "pd.read_csv(\"test.csv\", delimiter=\";\")"
   ],
   "execution_count": 3,
   "outputs": [
    {
     "data": {
      "text/html": [
       "<div>\n",
       "<style scoped>\n",
       "    .dataframe tbody tr th:only-of-type {\n",
       "        vertical-align: middle;\n",
       "    }\n",
       "\n",
       "    .dataframe tbody tr th {\n",
       "        vertical-align: top;\n",
       "    }\n",
       "\n",
       "    .dataframe thead th {\n",
       "        text-align: right;\n",
       "    }\n",
       "</style>\n",
       "<table border=\"1\" class=\"dataframe\">\n",
       "  <thead>\n",
       "    <tr style=\"text-align: right;\">\n",
       "      <th></th>\n",
       "      <th>name</th>\n",
       "      <th>age</th>\n",
       "    </tr>\n",
       "  </thead>\n",
       "  <tbody>\n",
       "    <tr>\n",
       "      <th>0</th>\n",
       "      <td>krish</td>\n",
       "      <td>31</td>\n",
       "    </tr>\n",
       "    <tr>\n",
       "      <th>1</th>\n",
       "      <td>sudan</td>\n",
       "      <td>30</td>\n",
       "    </tr>\n",
       "    <tr>\n",
       "      <th>2</th>\n",
       "      <td>sunny</td>\n",
       "      <td>29</td>\n",
       "    </tr>\n",
       "  </tbody>\n",
       "</table>\n",
       "</div>"
      ]
     },
     "metadata": {},
     "output_type": "display_data"
    }
   ],
   "metadata": {
    "datalore": {
     "node_id": "rRgUpZoLrbFyhqUyVP5JH9",
     "type": "CODE",
     "hide_input_from_viewers": true,
     "hide_output_from_viewers": true
    }
   }
  },
  {
   "cell_type": "code",
   "source": [
    "spark=SparkSession.builder.appName('Dataframe').getOrCreate()"
   ],
   "execution_count": 4,
   "outputs": [],
   "metadata": {
    "datalore": {
     "node_id": "cxYxYNy1r9JOOelU7LRAD4",
     "type": "CODE",
     "hide_input_from_viewers": false,
     "hide_output_from_viewers": false,
     "report_properties": {
      "rowId": "Ndpcu5fjYEPh5TBR6Dc71u"
     }
    }
   }
  },
  {
   "cell_type": "code",
   "source": [
    "spark"
   ],
   "execution_count": 5,
   "outputs": [
    {
     "data": {
      "text/html": [
       "\n",
       "            <div>\n",
       "                <p><b>SparkSession - in-memory</b></p>\n",
       "                \n",
       "        <div>\n",
       "            <p><b>SparkContext</b></p>\n",
       "\n",
       "            <p><a href=\"http://ip-10-0-201-104:4040\">Spark UI</a></p>\n",
       "\n",
       "            <dl>\n",
       "              <dt>Version</dt>\n",
       "                <dd><code>v3.4.0</code></dd>\n",
       "              <dt>Master</dt>\n",
       "                <dd><code>local[*]</code></dd>\n",
       "              <dt>AppName</dt>\n",
       "                <dd><code>Dataframe</code></dd>\n",
       "            </dl>\n",
       "        </div>\n",
       "        \n",
       "            </div>\n",
       "        "
      ]
     },
     "metadata": {},
     "output_type": "display_data"
    }
   ],
   "metadata": {
    "datalore": {
     "node_id": "0MgfTTsWL69tMXFh9R6qMd",
     "type": "CODE",
     "hide_input_from_viewers": false,
     "hide_output_from_viewers": false,
     "report_properties": {
      "rowId": "IRsozJ3XljAftK394q9vZp"
     }
    }
   }
  },
  {
   "cell_type": "code",
   "source": [
    "## read the dataset\n",
    "#df_pyspark=spark.read.option('header','true').csv('test1.csv',sep=';',inferSchema=True)"
   ],
   "execution_count": 11,
   "outputs": [],
   "metadata": {
    "datalore": {
     "node_id": "13kkfTQq4yTGDwopQezK0v",
     "type": "CODE",
     "hide_input_from_viewers": false,
     "hide_output_from_viewers": false,
     "report_properties": {
      "rowId": "v9vr9zCMwuIXolfRis7riP"
     }
    }
   }
  },
  {
   "cell_type": "code",
   "source": [
    "df_pyspark = spark.read.csv(\"test1.csv\", header=True, inferSchema=True, sep=\";\")"
   ],
   "execution_count": 20,
   "outputs": [],
   "metadata": {
    "datalore": {
     "node_id": "8H4xS48SMd31APq0eFInEE",
     "type": "CODE",
     "hide_input_from_viewers": true,
     "hide_output_from_viewers": true
    }
   }
  },
  {
   "cell_type": "code",
   "source": [
    "### Check the schema\n",
    "df_pyspark.printSchema()"
   ],
   "execution_count": 21,
   "outputs": [
    {
     "name": "stdout",
     "text": [
      "root\n",
      " |-- Name: string (nullable = true)\n",
      " |-- age: integer (nullable = true)\n",
      " |-- Experience: integer (nullable = true)\n"
     ],
     "output_type": "stream"
    }
   ],
   "metadata": {
    "datalore": {
     "node_id": "RNScUyx4RUdTd64e4SIaTT",
     "type": "CODE",
     "hide_input_from_viewers": false,
     "hide_output_from_viewers": false,
     "report_properties": {
      "rowId": "M18fgePIWFozsCYMAEfUss"
     }
    }
   }
  },
  {
   "cell_type": "code",
   "source": [
    "df_pyspark.head(3)"
   ],
   "execution_count": 23,
   "outputs": [
    {
     "data": {
      "text/plain": [
       "[Row(Name='krish', age=31, Experience=10),\n",
       " Row(Name='sudanshu', age=30, Experience=4),\n",
       " Row(Name='sunny', age=29, Experience=2)]"
      ]
     },
     "metadata": {},
     "output_type": "display_data"
    }
   ],
   "metadata": {
    "datalore": {
     "node_id": "aXIJFKhCV5x56cetlkAyIK",
     "type": "CODE",
     "hide_input_from_viewers": false,
     "hide_output_from_viewers": false,
     "report_properties": {
      "rowId": "GoL6qWG8P7MvXmfkQdeZIm"
     }
    }
   }
  },
  {
   "cell_type": "code",
   "source": [
    "df_pyspark.show()"
   ],
   "execution_count": 24,
   "outputs": [
    {
     "name": "stdout",
     "text": [
      "+--------+---+----------+\n",
      "|    Name|age|Experience|\n",
      "+--------+---+----------+\n",
      "|   krish| 31|        10|\n",
      "|sudanshu| 30|         4|\n",
      "|   sunny| 29|         2|\n",
      "|   sachi| 28|         0|\n",
      "+--------+---+----------+\n"
     ],
     "output_type": "stream"
    }
   ],
   "metadata": {
    "datalore": {
     "node_id": "Vk76LMrkzee0kaU5yXRlq3",
     "type": "CODE",
     "hide_input_from_viewers": false,
     "hide_output_from_viewers": false,
     "report_properties": {
      "rowId": "gunLUhtHgkPLkpWmkVvjSm"
     }
    }
   }
  },
  {
   "cell_type": "code",
   "source": [
    "df_pyspark.select(['Name','Experience']).show()"
   ],
   "execution_count": 25,
   "outputs": [
    {
     "name": "stdout",
     "text": [
      "+--------+----------+\n",
      "|    Name|Experience|\n",
      "+--------+----------+\n",
      "|   krish|        10|\n",
      "|sudanshu|         4|\n",
      "|   sunny|         2|\n",
      "|   sachi|         0|\n",
      "+--------+----------+\n"
     ],
     "output_type": "stream"
    }
   ],
   "metadata": {
    "datalore": {
     "node_id": "CoYPb1XNrUu3KiPG2nrLyx",
     "type": "CODE",
     "hide_input_from_viewers": false,
     "hide_output_from_viewers": false,
     "report_properties": {
      "rowId": "Mky82vw5xW0aGm6l3YKrzV"
     }
    }
   }
  },
  {
   "cell_type": "code",
   "source": [
    "df_pyspark['Name']"
   ],
   "execution_count": null,
   "outputs": [
    {
     "data": {
      "text/plain": [
       "Column<'Name'>"
      ]
     },
     "metadata": {},
     "output_type": "display_data"
    }
   ],
   "metadata": {
    "datalore": {
     "node_id": "1vuG3d7pbtYjx7FpwcsW98",
     "type": "CODE",
     "hide_input_from_viewers": false,
     "hide_output_from_viewers": false,
     "report_properties": {
      "rowId": "a9o4nxyUvV1WjddTPVHMYD"
     }
    }
   }
  },
  {
   "cell_type": "code",
   "source": [
    "df_pyspark.dtypes"
   ],
   "execution_count": 26,
   "outputs": [
    {
     "data": {
      "text/plain": [
       "[('Name', 'string'), ('age', 'int'), ('Experience', 'int')]"
      ]
     },
     "metadata": {},
     "output_type": "display_data"
    }
   ],
   "metadata": {
    "datalore": {
     "node_id": "fDpZAjlGQx5rKOzGoFdpr7",
     "type": "CODE",
     "hide_input_from_viewers": false,
     "hide_output_from_viewers": false,
     "report_properties": {
      "rowId": "upuEzivAP91ysaK0J1PjDP"
     }
    }
   }
  },
  {
   "cell_type": "code",
   "source": [
    "df_pyspark.describe().show()"
   ],
   "execution_count": 27,
   "outputs": [
    {
     "name": "stdout",
     "text": [
      "+-------+-----+------------------+-----------------+\n",
      "|summary| Name|               age|       Experience|\n",
      "+-------+-----+------------------+-----------------+\n",
      "|  count|    4|                 4|                4|\n",
      "|   mean| null|              29.5|              4.0|\n",
      "| stddev| null|1.2909944487358056|4.320493798938574|\n",
      "|    min|krish|                28|                0|\n",
      "|    max|sunny|                31|               10|\n",
      "+-------+-----+------------------+-----------------+\n"
     ],
     "output_type": "stream"
    }
   ],
   "metadata": {
    "datalore": {
     "node_id": "KxiBlsUOHGNBgY7PeuJWLf",
     "type": "CODE",
     "hide_input_from_viewers": false,
     "hide_output_from_viewers": false,
     "report_properties": {
      "rowId": "Pw45MzVnIdoKC41dQkKpVl"
     }
    }
   }
  },
  {
   "cell_type": "code",
   "source": [
    "### Adding Columns in data frame\n",
    "df_pyspark=df_pyspark.withColumn('Experience After 2 year',df_pyspark['Experience']+2)"
   ],
   "execution_count": null,
   "outputs": [],
   "metadata": {
    "datalore": {
     "node_id": "52EPX8tk1bY54RIyVs5v7P",
     "type": "CODE",
     "hide_input_from_viewers": false,
     "hide_output_from_viewers": false,
     "report_properties": {
      "rowId": "dFS68N8612GfZ4Tk6TX6c8"
     }
    }
   }
  },
  {
   "cell_type": "code",
   "source": [
    "df_pyspark.show()"
   ],
   "execution_count": null,
   "outputs": [
    {
     "name": "stdout",
     "text": [
      "+---------+---+----------+-----------------------+\n",
      "|     Name|age|Experience|Experience After 2 year|\n",
      "+---------+---+----------+-----------------------+\n",
      "|    Krish| 31|        10|                     12|\n",
      "|Sudhanshu| 30|         8|                     10|\n",
      "|    Sunny| 29|         4|                      6|\n",
      "+---------+---+----------+-----------------------+\n"
     ],
     "output_type": "stream"
    }
   ],
   "metadata": {
    "datalore": {
     "node_id": "sPOg5ha024ZRONj3AxeS0I",
     "type": "CODE",
     "hide_input_from_viewers": false,
     "hide_output_from_viewers": false,
     "report_properties": {
      "rowId": "nZ1ZszcbXdgdEUcIZzpnGs"
     }
    }
   }
  },
  {
   "cell_type": "code",
   "source": [
    "### Drop the columns\n",
    "df_pyspark=df_pyspark.drop('Experience After 2 year')"
   ],
   "execution_count": 28,
   "outputs": [],
   "metadata": {
    "datalore": {
     "node_id": "jCtB3Fi9bmAzn18g9z4g4v",
     "type": "CODE",
     "hide_input_from_viewers": false,
     "hide_output_from_viewers": false,
     "report_properties": {
      "rowId": "Eg68JcTBy8VuFU7heDT6ug"
     }
    }
   }
  },
  {
   "cell_type": "code",
   "source": [
    "df_pyspark.show()"
   ],
   "execution_count": 29,
   "outputs": [
    {
     "name": "stdout",
     "text": [
      "+--------+---+----------+\n",
      "|    Name|age|Experience|\n",
      "+--------+---+----------+\n",
      "|   krish| 31|        10|\n",
      "|sudanshu| 30|         4|\n",
      "|   sunny| 29|         2|\n",
      "|   sachi| 28|         0|\n",
      "+--------+---+----------+\n"
     ],
     "output_type": "stream"
    }
   ],
   "metadata": {
    "datalore": {
     "node_id": "1vlXXkc7QWpSHfIl6n5aoo",
     "type": "CODE",
     "hide_input_from_viewers": false,
     "hide_output_from_viewers": false,
     "report_properties": {
      "rowId": "LDXNn7s5SgL5BONeEkXr7q"
     }
    }
   }
  },
  {
   "cell_type": "code",
   "source": [
    "### Rename the columns\n",
    "df_pyspark.withColumnRenamed('Name','New Name').show()"
   ],
   "execution_count": 30,
   "outputs": [
    {
     "name": "stdout",
     "text": [
      "+--------+---+----------+\n",
      "|New Name|age|Experience|\n",
      "+--------+---+----------+\n",
      "|   krish| 31|        10|\n",
      "|sudanshu| 30|         4|\n",
      "|   sunny| 29|         2|\n",
      "|   sachi| 28|         0|\n",
      "+--------+---+----------+\n"
     ],
     "output_type": "stream"
    }
   ],
   "metadata": {
    "datalore": {
     "node_id": "ND74sUVpd2YxDa407wU0Kt",
     "type": "CODE",
     "hide_input_from_viewers": false,
     "hide_output_from_viewers": false,
     "report_properties": {
      "rowId": "l48hNlQvOpubtxx5n38b1t"
     }
    }
   }
  }
 ],
 "metadata": {
  "kernelspec": {
   "display_name": "Python",
   "language": "python",
   "name": "python"
  },
  "datalore": {
   "computation_mode": "JUPYTER",
   "package_manager": "pip",
   "base_environment": "default",
   "packages": [],
   "report_row_ids": [
    "doPnE9hLmObUBJbDUhlcLj",
    "yDUYUFiOaPfpVwECSr13bJ",
    "Ndpcu5fjYEPh5TBR6Dc71u",
    "IRsozJ3XljAftK394q9vZp",
    "v9vr9zCMwuIXolfRis7riP",
    "M18fgePIWFozsCYMAEfUss",
    "Pt15lPFzwmscmPLq2iucp4",
    "zv4H82DQfFlFM9dWyEn6yq",
    "hrs0i6xVdBk4TjLAvTJmYZ",
    "GoL6qWG8P7MvXmfkQdeZIm",
    "gunLUhtHgkPLkpWmkVvjSm",
    "Mky82vw5xW0aGm6l3YKrzV",
    "a9o4nxyUvV1WjddTPVHMYD",
    "upuEzivAP91ysaK0J1PjDP",
    "Pw45MzVnIdoKC41dQkKpVl",
    "dFS68N8612GfZ4Tk6TX6c8",
    "nZ1ZszcbXdgdEUcIZzpnGs",
    "Eg68JcTBy8VuFU7heDT6ug",
    "LDXNn7s5SgL5BONeEkXr7q",
    "l48hNlQvOpubtxx5n38b1t"
   ],
   "version": 3
  }
 },
 "nbformat": 4,
 "nbformat_minor": 4
}
